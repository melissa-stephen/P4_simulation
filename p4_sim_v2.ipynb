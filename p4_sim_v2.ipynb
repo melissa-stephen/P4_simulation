{
 "cells": [
  {
   "cell_type": "code",
   "execution_count": null,
   "metadata": {},
   "outputs": [],
   "source": [
    "using CSV,Statistics,LinearAlgebra,StatsPlots,DataFrames,DelimitedFiles,Distributions,Measures,Dates,GLM,DataFramesMeta,Random"
   ]
  },
  {
   "cell_type": "code",
   "execution_count": null,
   "metadata": {},
   "outputs": [],
   "source": [
    "Random.seed!(43313)\n",
    "dob = round.(rand(Normal(43313, 15), 50000))\n",
    "\n",
    "Random.seed!(330)\n",
    "age_p4_elevation = round.(rand(Normal(330, 15), 50000))\n",
    "date_p4_elevation = dob+age_p4_elevation\n",
    "\n",
    "A = [1] \n",
    "herd = repeat(A, 50000)\n",
    "\n",
    "#create vector of animal ids \n",
    "animal_id = [1:1:50000;]\n",
    "\n",
    "B = [0]\n",
    "month_1 = repeat(B, 50000)\n",
    "\n",
    "B = [0]\n",
    "twoweek_1 = repeat(B, 50000)\n",
    "\n",
    "B = [0]\n",
    "week_1 = repeat(B, 50000)\n",
    "\n",
    "B = [0]\n",
    "AGEP4_month_1 = repeat(B, 50000)\n",
    "\n",
    "B = [0]\n",
    "AGEP4_twoweek_1 = repeat(B, 50000)\n",
    "\n",
    "B = [0]\n",
    "AGEP4_week_1 = repeat(B, 50000)\n",
    "\n",
    "B = [0]\n",
    "AGEP4_LS = repeat(B, 50000)\n",
    "\n",
    "B = [0]\n",
    "AGEP4_RS_30 = repeat(B, 50000)\n",
    "\n",
    "B = [0]\n",
    "AGEP4_RS_60 = repeat(B, 50000)\n",
    "\n",
    "phenotype_tmp = hcat(animal_id,herd,dob,date_p4_elevation,age_p4_elevation,month_1,twoweek_1,week_1,AGEP4_month_1,AGEP4_twoweek_1,AGEP4_week_1, AGEP4_LS, AGEP4_RS_30, AGEP4_RS_60)\n",
    "phenotype_tmp2 = convert(DataFrame, phenotype_tmp)\n",
    "rename!(phenotype_tmp2, Dict(:x1 => \"id\", :x2 => \"Herd\", :x3 => \"DOB\", :x4 => \"DOP4\", :x5 => \"AGEP4\", :x6 => \"month_1\", :x7 => \"twoweek_1\", :x8 => \"week_1\", :x9 => \"AGEP4_month_1\", :x10 => \"AGEP4_twoweek_1\", :x11 => \"AGEP4_week_1\", :x12 => \"AGEP4_LS\", :x13 => \"AGEP4_RS_30\", :x14 => \"AGEP4_RS_60\" ))\n",
    "names(phenotype_tmp2)"
   ]
  },
  {
   "cell_type": "code",
   "execution_count": null,
   "metadata": {},
   "outputs": [],
   "source": [
    "first_visitdate_month_1 = round(mean(dob))+300\n",
    "second_visitdate_month_1 = round(mean(dob))+330\n",
    "third_visitdate_month_1 = round(mean(dob))+360\n",
    "\n",
    "first_visitdate_twoweek_1 = round(mean(dob))+300\n",
    "second_visitdate_twoweek_1 = round(mean(dob))+315\n",
    "third_visitdate_twoweek_1 = round(mean(dob))+330\n",
    "forth_visitdate_twoweek_1 = round(mean(dob))+345\n",
    "fifth_visitdate_twoweek_1 = round(mean(dob))+360\n",
    "\n",
    "\n",
    "first_visitdate_week_1 = round(mean(dob))+300\n",
    "second_visitdate_week_1 = round(mean(dob))+308\n",
    "third_visitdate_week_1 = round(mean(dob))+315\n",
    "forth_visitdate_week_1 = round(mean(dob))+323\n",
    "fifth_visitdate_week_1 = round(mean(dob))+330\n",
    "sixth_visitdate_week_1 = round(mean(dob))+338\n",
    "seventh_visitdate_week_1 = round(mean(dob))+345\n",
    "eighth_visitdate_week_1 = round(mean(dob))+353\n",
    "ninth_visitdate_week_1 = round(mean(dob))+360"
   ]
  },
  {
   "cell_type": "code",
   "execution_count": null,
   "metadata": {},
   "outputs": [],
   "source": [
    "#set the variable month_1 to be the date of the first visit following the date of P4 elevation for each animal, \n",
    "#for monthly, two-weekly and weekly.  \n",
    "\n",
    "phenotype_tmp3 = @byrow! phenotype_tmp2 begin\n",
    "                 if :DOP4 <=first_visitdate_month_1\n",
    "                    :month_1 = first_visitdate_month_1\n",
    "             elseif :DOP4 > first_visitdate_month_1&&:DOP4<=second_visitdate_month_1\n",
    "                    :month_1 = second_visitdate_month_1\n",
    "             elseif :DOP4 > second_visitdate_month_1&&:DOP4<=third_visitdate_month_1\n",
    "                    :month_1 = third_visitdate_month_1\n",
    "             elseif :DOP4 > third_visitdate_month_1\n",
    "                    :month_1 = 0\n",
    "                 end\n",
    "               end\n",
    "\n",
    "phenotype_tmp4 = @byrow! phenotype_tmp3 begin\n",
    "                 if :DOP4 <=first_visitdate_twoweek_1\n",
    "                    :twoweek_1 = first_visitdate_twoweek_1\n",
    "             elseif :DOP4 > first_visitdate_twoweek_1&&:DOP4<=second_visitdate_twoweek_1\n",
    "                    :twoweek_1 = second_visitdate_twoweek_1\n",
    "             elseif :DOP4 > second_visitdate_twoweek_1&&:DOP4<=third_visitdate_twoweek_1\n",
    "                    :twoweek_1 = third_visitdate_twoweek_1\n",
    "             elseif :DOP4 > third_visitdate_twoweek_1&&:DOP4<=forth_visitdate_twoweek_1\n",
    "                    :twoweek_1 = forth_visitdate_twoweek_1             \n",
    "             elseif :DOP4 > forth_visitdate_twoweek_1&&:DOP4<=fifth_visitdate_twoweek_1\n",
    "                    :twoweek_1 = fifth_visitdate_twoweek_1        \n",
    "             elseif :DOP4 > fifth_visitdate_twoweek_1 \n",
    "                    :twoweek_1 = 0\n",
    "                 end\n",
    "               end\n",
    "\n",
    "phenotype_tmp5 = @byrow! phenotype_tmp4 begin\n",
    "                 if :DOP4 <=first_visitdate_week_1\n",
    "                    :week_1 = first_visitdate_week_1\n",
    "             elseif :DOP4 > first_visitdate_week_1&&:DOP4<=second_visitdate_week_1\n",
    "                    :week_1 = second_visitdate_week_1\n",
    "             elseif :DOP4 > second_visitdate_week_1&&:DOP4<=third_visitdate_week_1\n",
    "                    :week_1 = third_visitdate_week_1\n",
    "             elseif :DOP4 > third_visitdate_week_1&&:DOP4<=forth_visitdate_week_1\n",
    "                    :week_1 = forth_visitdate_week_1\n",
    "             elseif :DOP4 > forth_visitdate_week_1&&:DOP4<=fifth_visitdate_week_1\n",
    "                    :week_1 = fifth_visitdate_week_1\n",
    "             elseif :DOP4 > fifth_visitdate_week_1&&:DOP4<=sixth_visitdate_week_1\n",
    "                    :week_1 = sixth_visitdate_week_1        \n",
    "             elseif :DOP4 > sixth_visitdate_week_1&&:DOP4<=seventh_visitdate_week_1\n",
    "                    :week_1 = seventh_visitdate_week_1 \n",
    "             elseif :DOP4 > seventh_visitdate_week_1&&:DOP4<=eighth_visitdate_week_1\n",
    "                    :week_1 = eighth_visitdate_week_1        \n",
    "             elseif :DOP4 > eighth_visitdate_week_1&&:DOP4<=ninth_visitdate_week_1\n",
    "                    :week_1 = ninth_visitdate_week_1          \n",
    "             elseif :DOP4 > ninth_visitdate_week_1\n",
    "                    :week_1 = 0\n",
    "                 end\n",
    "               end\n",
    "\n",
    "#Set the variable AGEP4_month_1 (etc) to be the age of the animal on the date of the visit where their P4 elevation would \n",
    "#be recorded\n",
    "phenotype_tmp6 = @byrow! phenotype_tmp5 begin\n",
    "                 if :month_1-:DOB > 0\n",
    "                    :AGEP4_month_1 = :month_1-:DOB\n",
    "             elseif :month_1-:DOB < 0\n",
    "                    :AGEP4_month_1 = 0\n",
    "                         end\n",
    "               end\n",
    "\n",
    "phenotype_tmp7 = @byrow! phenotype_tmp6 begin\n",
    "                 if :twoweek_1-:DOB > 0\n",
    "                    :AGEP4_twoweek_1 = :twoweek_1-:DOB\n",
    "             elseif :twoweek_1-:DOB < 0\n",
    "                    :AGEP4_twoweek_1 = 0\n",
    "                         end\n",
    "               end\n",
    "\n",
    "phenotype_tmp8 = @byrow! phenotype_tmp7 begin\n",
    "                 if :week_1-:DOB > 0\n",
    "                    :AGEP4_week_1 = :week_1-:DOB\n",
    "             elseif :week_1-:DOB < 0\n",
    "                    :AGEP4_week_1 = 0\n",
    "                         end\n",
    "               end\n",
    "\n",
    "#Set the variable AGEP4_LS to be the AGEP4 that would be recorded for animals if visit window created left censoring \n",
    "#i.e. their age on the first visit. \n",
    "phenotype_tmp9 = @byrow! phenotype_tmp8 begin\n",
    "                 if :DOP4 <= first_visitdate_month_1\n",
    "                    :AGEP4_LS = first_visitdate_month_1 - :DOB\n",
    "             elseif :DOP4 > first_visitdate_month_1\n",
    "                    :AGEP4_LS = :AGEP4\n",
    "                         end\n",
    "               end\n",
    "\n",
    "#Set the variable AGEP4_RS_30 to be the age the animal is 30 days after the last visit (this could be assigned as the phenotype \n",
    "#of the animal if P4 elevation was not observed within the window)\n",
    "phenotype_tmp10 = @byrow! phenotype_tmp9 begin\n",
    "                 if :DOP4 > third_visitdate_month_1\n",
    "                    :AGEP4_RS_30 = (third_visitdate_month_1+30) - :DOB\n",
    "             elseif :DOP4 <= third_visitdate_month_1\n",
    "                    :AGEP4_RS_30 = :AGEP4\n",
    "                         end\n",
    "               end\n",
    "\n",
    "#As above, but right censored animals assigned AGEP4 that is their age on the last visit plus 60 days. \n",
    "phenotype_tmp11 = @byrow! phenotype_tmp10 begin\n",
    "                 if :DOP4 > third_visitdate_month_1\n",
    "                    :AGEP4_RS_60 = (third_visitdate_month_1+60) - :DOB\n",
    "             elseif :DOP4 <= third_visitdate_month_1\n",
    "                    :AGEP4_RS_60 = :AGEP4\n",
    "                         end\n",
    "               end;\n",
    "\n",
    "#cant deleted the redundant objects, so make them something small.....\n",
    "phenotype_tmp1 =\"NA\"\n",
    "phenotype_tmp2 =\"NA\"\n",
    "phenotype_tmp3 =\"NA\"\n",
    "phenotype_tmp4 =\"NA\"\n",
    "phenotype_tmp5 =\"NA\"\n",
    "phenotype_tmp6 =\"NA\"\n",
    "phenotype_tmp7 =\"NA\"\n",
    "phenotype_tmp8 =\"NA\"\n",
    "phenotype_tmp9 =\"NA\"\n",
    "phenotype_tmp10 =\"NA\""
   ]
  },
  {
   "cell_type": "code",
   "execution_count": null,
   "metadata": {},
   "outputs": [],
   "source": [
    "#Set the last dataframe to be the date used in the graphs\n",
    "\n",
    "phenotype_analysis = phenotype_tmp11;"
   ]
  },
  {
   "cell_type": "markdown",
   "metadata": {},
   "source": [
    "# Regression of AGEP4 on DOB "
   ]
  },
  {
   "cell_type": "markdown",
   "metadata": {},
   "source": [
    "AGEP4 and DOB are independant variables, so the regression of AGEP4 on DOB (or vis versa) should be 0\n",
    "\n",
    "Regression of AGEP4 on DOB = (cov(AGEP4,DOB)/(var(DOB)))\n",
    " \n",
    "cov(AGEP4,DOB)             = 0\n",
    " \n",
    "Regression of AGEP4onDOB   = 0/(var(DOB)\n",
    "                           = 0 "
   ]
  },
  {
   "cell_type": "code",
   "execution_count": null,
   "metadata": {},
   "outputs": [],
   "source": [
    "#Observation Frequency = Daily\n",
    "x_d = [phenotype_analysis[!,:Herd] phenotype_analysis[!,:DOB]]\n",
    "y_d = phenotype_analysis[!,:AGEP4]\n",
    "regAGEP4onDOB_d = (x_d'*x_d)\\x_d'*y_d\n",
    "\n",
    "cov_AGEP4withDOB_d = cov((phenotype_analysis[!,:DOB]),(phenotype_analysis[!,:AGEP4]))\n",
    "\n",
    "daily = scatter((phenotype_analysis[!,:DOB]),(phenotype_analysis[!,:AGEP4]), legend=false,\n",
    "    title=\"AGEP4 on DOB (Daily)\",\n",
    "    title_location=:left,\n",
    "    color=[:white],\n",
    "    ylabel=\"AGEP4\",\n",
    "    xlabel=\"Date of Birth (Julian Day)\",\n",
    "    xtickfontsize=12,\n",
    "    ytickfontsize=12,\n",
    "    yguidefontsize=12,\n",
    "    titlefontsize=12,\n",
    "    xrotation=45)"
   ]
  },
  {
   "cell_type": "code",
   "execution_count": null,
   "metadata": {},
   "outputs": [],
   "source": [
    "regAGEP4onDOB_d"
   ]
  },
  {
   "cell_type": "code",
   "execution_count": null,
   "metadata": {},
   "outputs": [],
   "source": [
    "cov_AGEP4withDOB_d"
   ]
  },
  {
   "cell_type": "code",
   "execution_count": null,
   "metadata": {},
   "outputs": [],
   "source": [
    "#Observation Frequency = Daily\n",
    "x_d = [phenotype_analysis[!,:Herd] phenotype_analysis[!,:DOB]]\n",
    "y_d = phenotype_analysis[!,:AGEP4_LS]\n",
    "regAGEP4onDOB_d = (x_d'*x_d)\\x_d'*y_d\n",
    "\n",
    "cov_AGEP4withDOB_d = cov((phenotype_analysis[!,:DOB]),(phenotype_analysis[!,:AGEP4_LS]))\n",
    "\n",
    "daily = scatter((phenotype_analysis[!,:DOB]),(phenotype_analysis[!,:AGEP4_LS]), legend=false,\n",
    "    title=\"AGEP4 on DOB (Daily): Left Censored\",\n",
    "    title_location=:left,\n",
    "    color=[:white],\n",
    "    ylabel=\"AGEP4\",\n",
    "    xlabel=\"Date of Birth (Julian Day)\",\n",
    "    xtickfontsize=12,\n",
    "    ytickfontsize=12,\n",
    "    yguidefontsize=12,\n",
    "    titlefontsize=12,\n",
    "    xrotation=45)"
   ]
  },
  {
   "cell_type": "code",
   "execution_count": null,
   "metadata": {},
   "outputs": [],
   "source": [
    "regAGEP4onDOB_d"
   ]
  },
  {
   "cell_type": "code",
   "execution_count": null,
   "metadata": {},
   "outputs": [],
   "source": [
    "cov_AGEP4withDOB_d"
   ]
  },
  {
   "cell_type": "code",
   "execution_count": null,
   "metadata": {},
   "outputs": [],
   "source": [
    "#Observation Frequency = Daily\n",
    "x_d = [phenotype_analysis[!,:Herd] phenotype_analysis[!,:DOB]]\n",
    "y_d = phenotype_analysis[!,:AGEP4_RS_30]\n",
    "regAGEP4onDOB_d = (x_d'*x_d)\\x_d'*y_d\n",
    "\n",
    "cov_AGEP4withDOB_d = cov((phenotype_analysis[!,:DOB]),(phenotype_analysis[!,:AGEP4_RS_30]))\n",
    "\n",
    "daily = scatter((phenotype_analysis[!,:DOB]),(phenotype_analysis[!,:AGEP4_RS_30]), legend=false,\n",
    "    title=\"AGEP4 on DOB (Daily): Right Censored + 30 days\",\n",
    "    title_location=:left,\n",
    "    color=[:white],\n",
    "    ylabel=\"AGEP4\",\n",
    "    xlabel=\"Date of Birth (Julian Day)\",\n",
    "    xtickfontsize=12,\n",
    "    ytickfontsize=12,\n",
    "    yguidefontsize=12,\n",
    "    titlefontsize=12,\n",
    "    xrotation=45)"
   ]
  },
  {
   "cell_type": "code",
   "execution_count": null,
   "metadata": {},
   "outputs": [],
   "source": [
    "regAGEP4onDOB_d"
   ]
  },
  {
   "cell_type": "code",
   "execution_count": null,
   "metadata": {},
   "outputs": [],
   "source": [
    "cov_AGEP4withDOB_d"
   ]
  },
  {
   "cell_type": "code",
   "execution_count": null,
   "metadata": {},
   "outputs": [],
   "source": [
    "#Observation Frequency = Daily\n",
    "x_d = [phenotype_analysis[!,:Herd] phenotype_analysis[!,:DOB]]\n",
    "y_d = phenotype_analysis[!,:AGEP4_RS_60]\n",
    "regAGEP4onDOB_d = (x_d'*x_d)\\x_d'*y_d\n",
    "\n",
    "cov_AGEP4withDOB_d = cov((phenotype_analysis[!,:DOB]),(phenotype_analysis[!,:AGEP4_RS_60]))\n",
    "\n",
    "daily = scatter((phenotype_analysis[!,:DOB]),(phenotype_analysis[!,:AGEP4_RS_60]), legend=false,\n",
    "    title=\"AGEP4 on DOB (Daily): Right Censored + 60 days\",\n",
    "    title_location=:left,\n",
    "    color=[:white],\n",
    "    ylabel=\"AGEP4\",\n",
    "    xlabel=\"Date of Birth (Julian Day)\",\n",
    "    xtickfontsize=12,\n",
    "    ytickfontsize=12,\n",
    "    yguidefontsize=12,\n",
    "    titlefontsize=12,\n",
    "    xrotation=45)"
   ]
  },
  {
   "cell_type": "code",
   "execution_count": null,
   "metadata": {},
   "outputs": [],
   "source": [
    "regAGEP4onDOB_d"
   ]
  },
  {
   "cell_type": "code",
   "execution_count": null,
   "metadata": {},
   "outputs": [],
   "source": [
    "cov_AGEP4withDOB_d"
   ]
  },
  {
   "cell_type": "code",
   "execution_count": null,
   "metadata": {},
   "outputs": [],
   "source": [
    "#Observation Frequency = Daily\n",
    "\n",
    "phenotype_analysis_rmRCdata=filter(i -> (i.:AGEP4_month_1 != 0), phenotype_analysis)\n",
    "\n",
    "x_d = [phenotype_analysis_rmRCdata[!,:Herd] phenotype_analysis_rmRCdata[!,:DOB]]\n",
    "y_d = phenotype_analysis_rmRCdata[!,:AGEP4_month_1]\n",
    "regAGEP4onDOB_d = (x_d'*x_d)\\x_d'*y_d\n",
    "\n",
    "cov_AGEP4withDOB_d = cov((phenotype_analysis_rmRCdata[!,:DOB]),(phenotype_analysis_rmRCdata[!,:AGEP4_month_1]))\n",
    "\n",
    "daily = scatter((phenotype_analysis_rmRCdata[!,:DOB]),(phenotype_analysis_rmRCdata[!,:AGEP4_month_1]), legend=false,\n",
    "    title=\"AGEP4 on DOB (Month)\",\n",
    "    title_location=:left,\n",
    "    color=[:white],\n",
    "    ylabel=\"AGEP4\",\n",
    "    xlabel=\"Date of Birth (Julian Day)\",\n",
    "    xtickfontsize=12,\n",
    "    ytickfontsize=12,\n",
    "    yguidefontsize=12,\n",
    "    titlefontsize=12,\n",
    "    xrotation=45)"
   ]
  },
  {
   "cell_type": "code",
   "execution_count": null,
   "metadata": {},
   "outputs": [],
   "source": [
    "regAGEP4onDOB_d"
   ]
  },
  {
   "cell_type": "code",
   "execution_count": null,
   "metadata": {},
   "outputs": [],
   "source": [
    "x_d = [phenotype_analysis_rmRCdata[!,:Herd] phenotype_analysis_rmRCdata[!,:DOB]]\n",
    "y_d = phenotype_analysis_rmRCdata[!,:AGEP4_twoweek_1]\n",
    "regAGEP4onDOB_d = (x_d'*x_d)\\x_d'*y_d\n",
    "\n",
    "cov_AGEP4withDOB_d = cov((phenotype_analysis_rmRCdata[!,:DOB]),(phenotype_analysis_rmRCdata[!,:AGEP4_twoweek_1]))\n",
    "\n",
    "daily = scatter((phenotype_analysis_rmRCdata[!,:DOB]),(phenotype_analysis_rmRCdata[!,:AGEP4_twoweek_1]), legend=false,\n",
    "    title=\"AGEP4 on DOB (Two-weekly)\",\n",
    "    title_location=:left,\n",
    "    color=[:white],\n",
    "    ylabel=\"AGEP4\",\n",
    "    xlabel=\"Date of Birth (Julian Day)\",\n",
    "    xtickfontsize=12,\n",
    "    ytickfontsize=12,\n",
    "    yguidefontsize=12,\n",
    "    titlefontsize=12,\n",
    "    xrotation=45)"
   ]
  },
  {
   "cell_type": "code",
   "execution_count": null,
   "metadata": {},
   "outputs": [],
   "source": [
    "regAGEP4onDOB_d"
   ]
  },
  {
   "cell_type": "code",
   "execution_count": null,
   "metadata": {},
   "outputs": [],
   "source": [
    "x_d = [phenotype_analysis_rmRCdata[!,:Herd] phenotype_analysis_rmRCdata[!,:DOB]]\n",
    "y_d = phenotype_analysis_rmRCdata[!,:AGEP4_week_1]\n",
    "regAGEP4onDOB_d = (x_d'*x_d)\\x_d'*y_d\n",
    "\n",
    "cov_AGEP4withDOB_d = cov((phenotype_analysis_rmRCdata[!,:DOB]),(phenotype_analysis_rmRCdata[!,:AGEP4_week_1]))\n",
    "\n",
    "daily = scatter((phenotype_analysis_rmRCdata[!,:DOB]),(phenotype_analysis_rmRCdata[!,:AGEP4_week_1]), legend=false,\n",
    "    title=\"AGEP4 on DOB (Weekly)\",\n",
    "    title_location=:left,\n",
    "    color=[:white],\n",
    "    ylabel=\"AGEP4\",\n",
    "    xlabel=\"Date of Birth (Julian Day)\",\n",
    "    xtickfontsize=12,\n",
    "    ytickfontsize=12,\n",
    "    yguidefontsize=12,\n",
    "    titlefontsize=12,\n",
    "    xrotation=45)"
   ]
  },
  {
   "cell_type": "code",
   "execution_count": null,
   "metadata": {},
   "outputs": [],
   "source": [
    "regAGEP4onDOB_d"
   ]
  },
  {
   "cell_type": "code",
   "execution_count": null,
   "metadata": {},
   "outputs": [],
   "source": [
    "x_d = [phenotype_analysis_rmRCdata[!,:Herd] phenotype_analysis_rmRCdata[!,:DOB]]\n",
    "y_d = phenotype_analysis_rmRCdata[!,:AGEP4]\n",
    "regAGEP4onDOB_d = (x_d'*x_d)\\x_d'*y_d\n",
    "\n",
    "cov_AGEP4withDOB_d = cov((phenotype_analysis_rmRCdata[!,:DOB]),(phenotype_analysis_rmRCdata[!,:AGEP4]))\n",
    "\n",
    "daily = scatter((phenotype_analysis_rmRCdata[!,:DOB]),(phenotype_analysis_rmRCdata[!,:AGEP4]), legend=false,\n",
    "    title=\"AGEP4 on DOB (Daily)\",\n",
    "    title_location=:left,\n",
    "    color=[:white],\n",
    "    ylabel=\"AGEP4\",\n",
    "    xlabel=\"Date of Birth (Julian Day)\",\n",
    "    xtickfontsize=12,\n",
    "    ytickfontsize=12,\n",
    "    yguidefontsize=12,\n",
    "    titlefontsize=12,\n",
    "    xrotation=45)"
   ]
  },
  {
   "cell_type": "code",
   "execution_count": null,
   "metadata": {},
   "outputs": [],
   "source": [
    "regAGEP4onDOB_d"
   ]
  },
  {
   "cell_type": "code",
   "execution_count": null,
   "metadata": {},
   "outputs": [],
   "source": []
  }
 ],
 "metadata": {
  "kernelspec": {
   "display_name": "Julia 1.4.1",
   "language": "julia",
   "name": "julia-1.4"
  },
  "language_info": {
   "file_extension": ".jl",
   "mimetype": "application/julia",
   "name": "julia",
   "version": "1.4.1"
  }
 },
 "nbformat": 4,
 "nbformat_minor": 4
}
